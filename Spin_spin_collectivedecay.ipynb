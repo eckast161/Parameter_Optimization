{
 "cells": [
  {
   "cell_type": "code",
   "execution_count": 194,
   "metadata": {
    "id": "VhRJAMiEbM7Z"
   },
   "outputs": [],
   "source": [
    "import matplotlib.pyplot as plt\n",
    "#from google.colab import files\n",
    "\n",
    "\"\"\"In order to provide a better presentation of the graphs we use the rcParams options shown below.\"\"\"\n",
    "\n",
    "\n",
    "import numpy as np\n",
    "from numpy import cos, sin\n",
    "\n",
    "label_size = 20\n",
    "\n",
    "from numpy import sqrt\n",
    "\n",
    "import time\n",
    "from numba import jit\n",
    "from numpy import sin, cos\n",
    "\n",
    "T0=time.time()\n",
    "\n",
    "import time\n",
    "\n",
    "from numpy import array, zeros"
   ]
  },
  {
   "cell_type": "markdown",
   "metadata": {
    "id": "ceWm8GYcv-8d"
   },
   "source": [
    "# Cumulant Approximation at second order for Multilevel Spin systems"
   ]
  },
  {
   "cell_type": "markdown",
   "metadata": {
    "id": "cHNr_u78v-8f"
   },
   "source": [
    "## Hamiltonian Spin-Spin interactions\n",
    "\n",
    "We consider hamiltonians of the form $H=\\sum_{ab}h_{ab}\\hat{S}_{ab}+\\sum_{abcd}h_{abcd}\\hat{S}_{abcd}$, with $\\hat{S}_{ab}=\\sum_i\\left|a\\right>\\!\\!\\left<b\\right|_i$ and $\\hat{S}_{abcd}=\\hat{S}_{ab}\\hat{S}_{cd}$. We define as well $S_{abcdef}\\equiv\\left<\\hat{S}_{ab}\\hat{S}_{cd}\\hat{S}_{ef}  \\right>$, $S_{abcd}\\equiv\\left<\\hat{S}_{ab}\\hat{S}_{cd}  \\right>$ and $S_{ab}\\equiv\\left<\\hat{S}_{ab}  \\right>$. The cumulant approximation at second order can be written as:\n",
    "\n",
    "$$S_{abcdef}\\approx S_{abcd}S_{ef}+S_{cdef}S_{ab}+S_{abef}S_{cd}-2S_{ab}S_{cd}S_{ef}$$\n",
    "\n",
    "This implies as well that we will have in total $\\rm{dim}(H_i)^2+\\rm{dim}(H_i)$ elements to be considered in the hamiltonian (redundant terms). Our objective at first is to find a symbolic form to write this elements and find a suitable factorization of the system of differential equations. We calculated the following terms:\n",
    "\n",
    "\n",
    "\n",
    "\\begin{align}\n",
    "\\left[\\hat{S}_{ab},\\hat{S}_{ef}\\right] & =\\delta_{eb}\\hat{S}_{af}-\\delta_{af}\\hat{S}_{eb},\\\\\n",
    "\\left[\\hat{S}_{ab}\\hat{S}_{cd},\\hat{S}_{ef}\\right] & =\\delta_{ed}\\hat{S}_{ab}\\hat{S}_{cf}-\\delta_{cf}\\hat{S}_{ab}\\hat{S}_{ed}+\\delta_{eb}\\hat{S}_{af}\\hat{S}_{cd}-\\delta_{af}\\hat{S}_{eb}\\hat{S}_{cd},\\\\\n",
    "\\left[\\hat{S}_{ab}\\hat{S}_{cd},\\hat{S}_{ef}\\hat{S}_{gh}\\right] & =\\delta_{dg}\\hat{S}_{ab}\\hat{S}_{ef}\\hat{S}_{ch}-\\delta_{ch}\\hat{S}_{ab}\\hat{S}_{ef}\\hat{S}_{gd}+\\delta_{ed}\\hat{S}_{ab}\\hat{S}_{cf}\\hat{S}_{gh}-\\delta_{cf}\\hat{S}_{ab}\\hat{S}_{ed}\\hat{S}_{gh}\\\\\n",
    " & \\,\\,\\,\\,\\,+\\delta_{gb}\\hat{S}_{ef}\\hat{S}_{ah}\\hat{S}_{cd}-\\delta_{ah}\\hat{S}_{ef}\\hat{S}_{gb}\\hat{S}_{cd}+\\delta_{eb}\\hat{S}_{af}\\hat{S}_{gh}\\hat{S}_{cd}-\\delta_{af}\\hat{S}_{eb}\\hat{S}_{gh}\\hat{S}_{cd}.\n",
    "\\end{align}\n",
    "\n",
    "In general, observe that there is a bijection between $ab$ and $\\{0,1,\\dots,\\rm{dim}(H_i)-1\\}$ and between $abcd$ and $\\{\\rm{dim}(H_i),1,\\dots,\\rm{dim}(H_i)^2+\\rm{dim}(H_i)-1\\}$, so we will consider at first the array of hamiltonian elements to be zero, such that the user will set each of the coefficients following the notation (in the case of 4-level system) $\\{h_{00},h_{01},\\dots,h_{33},h_{00,00},h_{00,01},\\dots,h_{33,33} \\}$. From the equations we can observe that only the term $\\left[\\hat{S}_{ab}\\hat{S}_{cd},\\hat{S}_{ef}\\hat{S}_{gh}\\right]$ requires an approximation. Our approach relies on the fact that the processes studied are collective, so following this we will obtain expressions for the quantum decay through channels of the form $\\hat{S}_{ab}$, performing some algebra lead us to:\n",
    "\n",
    "\\begin{align*}\n",
    "\\mathcal{L}_{\\hat{S}_{ab}}^{*}\\left[\\hat{S}_{cd}\\right] & =\\frac{\\Gamma_{ab}}{2}\\left(\\delta_{ad}\\hat{S}_{bacb}-\\delta_{cb}\\hat{S}_{baad}-\\delta_{bd}\\hat{S}_{caab}+\\delta_{ca}\\hat{S}_{bdab}\\right)\\\\\n",
    "\\mathcal{L}_{\\hat{S}_{ab}}^{*}\\left[\\hat{S}_{cdef}\\right] & =\\frac{\\Gamma_{ab}}{2}\\left(\\delta_{af}\\hat{S}_{bacdeb}-\\delta_{eb}\\hat{S}_{bacdaf}+\\delta_{ad}\\hat{S}_{bacbef}-\\delta_{cb}\\hat{S}_{baadef}-\\delta_{bf}\\hat{S}_{cdeaab}+\\delta_{ea}\\hat{S}_{cdbfab}-\\delta_{bd}\\hat{S}_{caefab}+\\delta_{ca}\\hat{S}_{bdefab}\\right)\n",
    "\\end{align*}"
   ]
  },
  {
   "cell_type": "markdown",
   "metadata": {
    "id": "MWpUcCbAObyw"
   },
   "source": []
  },
  {
   "cell_type": "code",
   "execution_count": 195,
   "metadata": {
    "id": "6T5PNqFUv-8i"
   },
   "outputs": [],
   "source": [
    "\n",
    "\n",
    "Lev   = 4\n",
    "Lev_c = Lev**2\n",
    "\n",
    "\n",
    "#%%%%%%%%%%%%%%%%%%%%%%%%%%%%%%%%%%%%%%%%%%%%%%%%%%%\n",
    "\n",
    "Nat=10000\n",
    "\n",
    "#%%%%%%%%%%%%%%%%%%%%%%%%%%%%%%%%%%%%%%%%%%%%%%%%%%%\n",
    "\n",
    "\n",
    "# Further notation, we will separate using an array compound by 4 index which represent each of the parts of the hamiltonian,\n",
    "# in the case of the single terms, the last two indexes will be \"None\". In the case of the full representation, a hamiltonian\n",
    "# woudl be just a dictionary where the first element would be the index and the second one the coefficient. Take account that\n",
    "#constants coefficients are expected.\n",
    "\n",
    "\n",
    "def H_index1(a,b):\n",
    "    \n",
    "    return Lev*a+b\n",
    "\n",
    "\n",
    "def H_index2(a,b,c,d):\n",
    "    \n",
    "    return Lev_c+Lev_c*(Lev*a+b)+(Lev*c+d)\n",
    "\n",
    "\n",
    "\n",
    "def cumul(a,b,c,d,e,f, Ur):\n",
    "     \n",
    "    ind_ab=H_index1(a,b)\n",
    "    ind_cd=H_index1(c,d)\n",
    "    ind_ef=H_index1(e,f)\n",
    "\n",
    "\n",
    "    T1=Ur[H_index2(a,b,c,d)]*Ur[ind_ef]\n",
    "    T2=Ur[H_index2(a,b,e,f)]*Ur[ind_cd]\n",
    "    T3=Ur[H_index2(c,d,e,f)]*Ur[ind_ab]\n",
    "    T4=Ur[ind_ab]*Ur[ind_cd]*Ur[ind_ef]\n",
    "    \n",
    "    return T1+T2+T3-2*T4\n",
    "\n",
    "\n",
    "def krone(a,b):\n",
    "    if a==b:\n",
    "        return 1\n",
    "    else:\n",
    "        return 0\n",
    "    \n",
    "@jit\n",
    "def expand2(a,b,c,d,Ur):\n",
    "    \n",
    "    Result=0\n",
    "    \n",
    "    if krone(c,b)==1:\n",
    "        Result=Result+Ur[H_index1(a,d)]\n",
    "    \n",
    "    if krone(a,d)==1:\n",
    "        Result=Result-Ur[H_index1(c,b)]\n",
    "    \n",
    "    return Result\n",
    "    \n",
    "    \n",
    "    \n",
    "@jit    \n",
    "def expand3A(a,b,c,d,e,f,Ur):      # For single\n",
    "    \n",
    "    Result=0 \n",
    "    \n",
    "    if krone(e,d)==1:\n",
    "        Result=Result+Ur[H_index2(a,b,c,f)]        \n",
    "\n",
    "    if krone(c,f)==1:\n",
    "        Result=Result-Ur[H_index2(a,b,e,d)]  \n",
    "        \n",
    "    if krone(e,b)==1:\n",
    "        Result=Result+Ur[H_index2(a,f,c,d)]        \n",
    "\n",
    "    if krone(a,f)==1:\n",
    "        Result=Result-Ur[H_index2(e,b,c,d)]\n",
    "        \n",
    "    return Result    \n",
    "        \n",
    "    \n",
    "@jit    \n",
    "def expand3B(a,b,c,d,e,f,Ur):      #For double\n",
    "\n",
    "    Result=0 \n",
    "    \n",
    "    if krone(e,b)==1:\n",
    "        Result=Result+Ur[H_index2(c,d,a,f)]        \n",
    "\n",
    "    if krone(a,f)==1:\n",
    "        Result=Result-Ur[H_index2(c,d,e,b)]  \n",
    "        \n",
    "    if krone(c,b)==1:\n",
    "        Result=Result+Ur[H_index2(a,d,e,f)]        \n",
    "\n",
    "    if krone(a,d)==1:\n",
    "        Result=Result-Ur[H_index2(c,b,e,f)]\n",
    "        \n",
    "    return Result   \n",
    "    \n",
    "    \n",
    "@jit    \n",
    "def expand4(a,b,c,d,e,f,g,h,Ur):\n",
    "    \n",
    "    Result=0\n",
    "    \n",
    "    if krone(d,g)==1:\n",
    "        Result=Result+cumul(a,b,e,f,c,h,Ur)\n",
    "    \n",
    "    if krone(c,h)==1:\n",
    "        Result=Result-cumul(a,b,e,f,g,d,Ur)\n",
    "\n",
    "    if krone(e,d)==1:\n",
    "        Result=Result+cumul(a,b,c,f,g,h,Ur)        \n",
    "\n",
    "    if krone(c,f)==1:\n",
    "        Result=Result-cumul(a,b,e,d,g,h,Ur)  \n",
    "        \n",
    "    if krone(g,b)==1:\n",
    "        Result=Result+cumul(e,f,a,h,c,d,Ur)\n",
    "    \n",
    "    if krone(a,h)==1:\n",
    "        Result=Result-cumul(e,f,g,b,c,d,Ur)\n",
    "\n",
    "    if krone(e,b)==1:\n",
    "        Result=Result+cumul(a,f,g,h,c,d,Ur)        \n",
    "\n",
    "    if krone(a,f)==1:\n",
    "        Result=Result-cumul(e,b,g,h,c,d,Ur) \n",
    "        \n",
    "    return Result\n",
    "    \n",
    "H_elem=Lev**2+Lev**4\n",
    "\n",
    "\n"
   ]
  },
  {
   "cell_type": "code",
   "execution_count": 196,
   "metadata": {
    "id": "PdJ2kuF3CS0I"
   },
   "outputs": [],
   "source": [
    "Hamiltonian_Coeficients=np.zeros((1,H_elem))\n",
    "\n",
    "# The array summarizes the coeffients of the form $\\{h_{00},h_{01},\\dots,h_{33},h_{00,00},h_{00,01},\\dots,h_{33,33} \\}$"
   ]
  },
  {
   "cell_type": "markdown",
   "metadata": {
    "id": "g4C42KDECTh9"
   },
   "source": [
    "We considered an array of the form $\\{h_{00},h_{01},\\dots,h_{33},h_{00,00},h_{00,01},\\dots,h_{33,33} \\}$, so the user will be able to edit the content of the array depending of the hamiltonian to be simulated."
   ]
  },
  {
   "cell_type": "code",
   "execution_count": 197,
   "metadata": {
    "id": "J4ekWIAQR0pP"
   },
   "outputs": [],
   "source": [
    "Hamiltonian_Coeficients ;"
   ]
  },
  {
   "cell_type": "code",
   "execution_count": 198,
   "metadata": {
    "id": "_q5OTzLXOJKK"
   },
   "outputs": [],
   "source": [
    "Delta_det=   20 * np.sqrt(Nat) \n",
    "chi      =   1/( Delta_det )\n",
    "delta_A  =   Nat/(2*Delta_det)\n",
    "delta_B  =  -Nat/(2*Delta_det)"
   ]
  },
  {
   "cell_type": "code",
   "execution_count": null,
   "metadata": {
    "id": "8K7QSaoayFKY"
   },
   "outputs": [],
   "source": []
  },
  {
   "cell_type": "code",
   "execution_count": 199,
   "metadata": {
    "id": "MXd7dCLrOJNz"
   },
   "outputs": [],
   "source": [
    "#Hamiltonian_Coeficients[0][H_index2(0,0,0,0)]= chi\n",
    "#Hamiltonian_Coeficients[0][H_index2(0,0,1,1)]=-chi\n",
    "#Hamiltonian_Coeficients[0][H_index2(1,1,0,0)]=-chi\n",
    "#Hamiltonian_Coeficients[0][H_index2(1,1,1,1)]= chi"
   ]
  },
  {
   "cell_type": "code",
   "execution_count": null,
   "metadata": {
    "id": "AEtUjPn4v-8j"
   },
   "outputs": [],
   "source": []
  },
  {
   "cell_type": "code",
   "execution_count": 200,
   "metadata": {
    "id": "LZvqGO2vssEC"
   },
   "outputs": [],
   "source": [
    "def Hamiltonian_Coeficients(t,delta_A=delta_A,delta_B=delta_B,chi=chi):\n",
    "  \n",
    "    Hamiltonian_Coeficients=np.zeros((1,H_elem))\n",
    "    Hamiltonian_Coeficients[0][H_index2(2,0,0,2)]= chi\n",
    "    Hamiltonian_Coeficients[0][H_index2(2,0,1,3)]=-chi\n",
    "    Hamiltonian_Coeficients[0][H_index2(3,1,0,2)]=-chi\n",
    "    Hamiltonian_Coeficients[0][H_index2(3,1,1,3)]= chi\n",
    "\n",
    "\n",
    "    Hamiltonian_Coeficients[0][H_index1(0,0)]    =  delta_A/2#*np.cos(Nat*chi*t)\n",
    "    Hamiltonian_Coeficients[0][H_index1(2,2)]    = -delta_A/2#*np.sin(Nat*chi*t)\n",
    "\n",
    "    Hamiltonian_Coeficients[0][H_index1(1,1)]    =  delta_B/2\n",
    "    Hamiltonian_Coeficients[0][H_index1(3,3)]    = -delta_B/2\n",
    "\n",
    "    return Hamiltonian_Coeficients\n",
    "\n"
   ]
  },
  {
   "cell_type": "code",
   "execution_count": 201,
   "metadata": {
    "id": "_-xxtq3dtAjO"
   },
   "outputs": [],
   "source": [
    "Decay_Coeficients=np.zeros((1,Lev**2))   #np.random.rand((1,Lev))\n",
    "\n",
    "# The array summarizes the decaying coefficients"
   ]
  },
  {
   "cell_type": "code",
   "execution_count": 202,
   "metadata": {},
   "outputs": [],
   "source": [
    "#Dec_Co=np.random.rand(Lev)\n",
    "\n"
   ]
  },
  {
   "cell_type": "code",
   "execution_count": null,
   "metadata": {},
   "outputs": [],
   "source": []
  },
  {
   "cell_type": "code",
   "execution_count": null,
   "metadata": {},
   "outputs": [],
   "source": []
  },
  {
   "cell_type": "code",
   "execution_count": null,
   "metadata": {},
   "outputs": [],
   "source": []
  },
  {
   "cell_type": "code",
   "execution_count": null,
   "metadata": {},
   "outputs": [],
   "source": []
  },
  {
   "cell_type": "code",
   "execution_count": 204,
   "metadata": {},
   "outputs": [],
   "source": [
    "def Decay_dyn1( a, b ,c ,d ,Ur):   #ab refers to the decay channel and cd refers to the 1-pair operator\n",
    "    \n",
    "    Decay_rate_ab=Decay_Coeficients[0][H_index1(a,b)]\n",
    "    \n",
    "    \n",
    "    if Decay_rate_ab<=10**(-13):\n",
    "        return 0\n",
    "    \n",
    "    else:\n",
    "        \n",
    "        Dec_elt=0\n",
    "            \n",
    "        if krone(a,d)==1:\n",
    "                \n",
    "            Dec_elt=Dec_elt+Ur[H_index2(b,a,c,d)]\n",
    "                \n",
    "        if krone(c,b)==1:\n",
    "                \n",
    "            Dec_elt=Dec_elt-Ur[H_index2(b,a,a,d)]\n",
    "                \n",
    "        if krone(b,d)==1:\n",
    "                \n",
    "            Dec_elt=Dec_elt-Ur[H_index2(c,a,a,b)]\n",
    "                \n",
    "        if krone(c,a)==1:\n",
    "                \n",
    "            Dec_elt=Dec_elt+Ur[H_index2(b,d,a,b)]\n",
    "                \n",
    "        return 0.5*Decay_rate_ab*Dec_elt"
   ]
  },
  {
   "cell_type": "code",
   "execution_count": null,
   "metadata": {},
   "outputs": [],
   "source": []
  },
  {
   "cell_type": "code",
   "execution_count": 210,
   "metadata": {},
   "outputs": [],
   "source": [
    "def Decay_dyn2( a, b ,c ,d,e,f ,Ur):   #ab refers to the decay channel and cdef refers to the 2-pair operator\n",
    "    \n",
    "    Decay_rate_ab=Decay_Coeficients[0][H_index1(a,b)]\n",
    "    \n",
    "    \n",
    "    if Decay_rate_ab<=10**(-10):\n",
    "        \n",
    "        return 0\n",
    "    \n",
    "    else:\n",
    "        \n",
    "        Dec_elt=0\n",
    "            \n",
    "        if krone(a,f)==1:\n",
    "                \n",
    "            Dec_elt=Dec_elt+cumul(b,a,c,d,e,b,  Ur)\n",
    "                \n",
    "        if krone(e,b)==1:\n",
    "                \n",
    "            Dec_elt=Dec_elt-cumul(b,a,c,d,a,f,  Ur)\n",
    "                \n",
    "        if krone(a,d)==1:\n",
    "                \n",
    "            Dec_elt=Dec_el+cumul(b,a,c,b,e,f,  Ur)\n",
    "                \n",
    "        if krone(c,b)==1:\n",
    "                \n",
    "            Dec_elt=Dec_elt-cumul(b,a,a,d,e,f,  Ur)\n",
    "                \n",
    "                \n",
    "                \n",
    "                \n",
    "        if krone(b,f)==1:\n",
    "                \n",
    "            Dec_elt=Dec_elt-cumul(c,d,e,a,a,b,  Ur)\n",
    "                \n",
    "        if krone(e,a)==1:\n",
    "                \n",
    "            Dec_elt=Dec_elt+cumul(c,d,b,f,a,b,  Ur)\n",
    "                \n",
    "        if krone(b,d)==1:\n",
    "                \n",
    "            Dec_elt=Dec_elt-cumul(c,a,e,f,a,b,  Ur)\n",
    "                \n",
    "        if krone(c,a)==1:\n",
    "                \n",
    "            Dec_elt=Dec_elt+ cumul(b,d,e,f,a,b,  Ur)               \n",
    "                \n",
    "        return 0.5*Decay_rate_ab*Dec_elt"
   ]
  },
  {
   "cell_type": "code",
   "execution_count": null,
   "metadata": {},
   "outputs": [],
   "source": []
  },
  {
   "cell_type": "code",
   "execution_count": 212,
   "metadata": {
    "id": "YVZ5OW5hv-8j"
   },
   "outputs": [],
   "source": [
    "\n",
    "#%%%%%%%%%%%%%%%%%%%%%%%%%%%%%%%%%%%%%%%%%%%%%%%%%%%%%%%%%%%%%%%%%%%\n",
    "\n",
    "\n",
    "def function_ed_cumul(y_ar, t,delta_A=delta_A,delta_B=delta_B):            #(y_ar, t, H_coef,Lev=Lev,H_elem=H_elem):\n",
    "    \n",
    "    H_coef=Hamiltonian_Coeficients(t,delta_A,delta_B)[0]\n",
    "    \n",
    "    dzdt=(zeros((1,H_elem),dtype='complex'))[0]\n",
    "\n",
    "    \n",
    "    for e in range(Lev):\n",
    "        for f in range(Lev):\n",
    "            \n",
    "            Ind_ef=H_index1(e,f)\n",
    "            \n",
    "            for a in range(Lev):\n",
    "                for b in range(Lev):\n",
    "                    \n",
    "                    Ind_ab=H_index1(a,b)\n",
    "                    dzdt[Ind_ef]+=1j * H_coef[Ind_ab]*expand2(a,b,e,f,y_ar)+Decay_dyn1(a,b,e,f,y_ar)\n",
    "                    \n",
    "                    \n",
    "                    for c in range(Lev):\n",
    "                        for d in range(Lev):\n",
    "                            \n",
    "                            Ind_abcd=H_index2(a,b,c,d)\n",
    "                            dzdt[Ind_ef]+=1j* H_coef[Ind_abcd]*expand3A(a,b,c,d,e,f,y_ar)\n",
    "                            \n",
    "                           \n",
    "    for e in range(Lev):\n",
    "        for f in range(Lev):\n",
    "            for g in range(Lev):\n",
    "                for h in range(Lev):\n",
    "                    \n",
    "                    Ind_efgh=H_index2(e,f,g,h)\n",
    "                    \n",
    "                    for a in range(Lev):\n",
    "                        for b in range(Lev):\n",
    "                            \n",
    "                            Ind_ab=H_index1(a,b)\n",
    "                            dzdt[Ind_efgh]+=1j* H_coef[Ind_ab]*expand3B(a,b,e,f,g,h,y_ar)+Decay_dyn2(a,b,e,f,g,h,y_ar)\n",
    "                            \n",
    "                            for c in range(Lev):\n",
    "                                for d in range(Lev):\n",
    "                                    \n",
    "                                    Ind_abcd=H_index2(a,b,c,d)\n",
    "                                    dzdt[Ind_efgh]+=1j* H_coef[Ind_abcd]*expand4(a,b,c,d,e,f,g,h,y_ar) \n",
    "                 \n",
    "                                    \n",
    "    return np.array(dzdt)\n",
    "                                      "
   ]
  },
  {
   "cell_type": "code",
   "execution_count": 213,
   "metadata": {
    "id": "5M0gUp7Ov-8k"
   },
   "outputs": [],
   "source": [
    "ye=np.linspace(0,Lev**2+Lev**4,Lev**2+Lev**4+1)\n",
    "\n",
    "\n",
    "ye;\n"
   ]
  },
  {
   "cell_type": "code",
   "execution_count": null,
   "metadata": {
    "id": "SF4XjSu9v-8n"
   },
   "outputs": [],
   "source": []
  },
  {
   "cell_type": "markdown",
   "metadata": {
    "id": "PQhbH_t9v-8n"
   },
   "source": [
    "Assuming identically prepared spins such that the initial state can be written as $\\rho\\left(0\\right)=\\otimes_{i}\\rho_{i}$ and in our case of interest $\\rho_{i}=\\frac{1}{2}\\left(\\left|0\\right\\rangle \\left\\langle 0\\right|_{i}+\\left|3\\right\\rangle \\left\\langle 3\\right|_{i}\\right)$"
   ]
  },
  {
   "cell_type": "code",
   "execution_count": 214,
   "metadata": {
    "id": "JxMTGQPKv-8n"
   },
   "outputs": [],
   "source": [
    "rho_init=np.zeros((Lev,Lev),dtype=\"complex\")\n",
    "\n",
    "\n",
    "#Set initial state\n",
    "\n",
    "rho_init[0,0]=0.5\n",
    "rho_init[0,1]=0\n",
    "rho_init[1,0]=0\n",
    "rho_init[3,3]=0.5"
   ]
  },
  {
   "cell_type": "code",
   "execution_count": 215,
   "metadata": {
    "id": "CRuemAeHsG3t"
   },
   "outputs": [],
   "source": [
    "rho_init;"
   ]
  },
  {
   "cell_type": "code",
   "execution_count": null,
   "metadata": {
    "id": "ygTyGNQZsG6z"
   },
   "outputs": [],
   "source": []
  },
  {
   "cell_type": "code",
   "execution_count": 216,
   "metadata": {
    "id": "E0oAq9Bhv-8n"
   },
   "outputs": [],
   "source": [
    "from numpy import trace\n",
    "\n",
    "\n",
    "def Matr_ab(a,b,Lev=Lev):\n",
    "    \n",
    "    Mat_ab=np.zeros((Lev,Lev))\n",
    "    Mat_ab[a][b]=1\n",
    "    \n",
    "    return Mat_ab\n",
    "\n"
   ]
  },
  {
   "cell_type": "code",
   "execution_count": 217,
   "metadata": {
    "id": "JrGjziqWv-8o"
   },
   "outputs": [],
   "source": [
    "\n",
    "def Single_Value_init(Lev=Lev,rho_init=rho_init):\n",
    "    \n",
    "    List_init=[]\n",
    "    \n",
    "    for i in range(Lev):\n",
    "        for j in range(Lev):\n",
    "            List_init.append(trace(Matr_ab(i,j)@rho_init))\n",
    "            \n",
    "    return List_init  \n",
    "\n",
    "def Total_list_init(Lev=Lev,rho_init=rho_init,Nat=Nat):\n",
    "    \n",
    "    List_sin=Single_Value_init(Lev,rho_init)\n",
    "    \n",
    "    List_tot_fin=list(np.zeros((1,Lev**2+Lev**4))[0])\n",
    "    \n",
    "    for a in range(Lev):\n",
    "        for b in range(Lev):\n",
    "            \n",
    "            H1ab=H_index1(a,b)\n",
    "            List_tot_fin[H1ab]=Nat*List_sin[H1ab]\n",
    "            \n",
    "            for c in range(Lev):\n",
    "                for d in range(Lev):\n",
    "                    \n",
    "                    H1ad=H_index1(a,d)\n",
    "                    H1ab=H_index1(a,b)\n",
    "                    H1cd=H_index1(c,d)\n",
    "                    H2abcd=H_index2(a,b,c,d)\n",
    "                    \n",
    "                    List_tot_fin[H2abcd]=krone(b,c)*Nat*List_sin[H1ad]+Nat*(Nat-1)*List_sin[H1ab]*List_sin[H1cd]\n",
    "                    \n",
    "        \n",
    "    return List_tot_fin\n",
    "                    "
   ]
  },
  {
   "cell_type": "code",
   "execution_count": 218,
   "metadata": {
    "id": "bOkEX96nv-8o"
   },
   "outputs": [],
   "source": [
    "Total_list_init();"
   ]
  },
  {
   "cell_type": "code",
   "execution_count": null,
   "metadata": {
    "id": "Wvzozck2v-8p"
   },
   "outputs": [],
   "source": []
  },
  {
   "cell_type": "code",
   "execution_count": 219,
   "metadata": {
    "id": "ntTQTe8Dv-8r"
   },
   "outputs": [],
   "source": [
    "from scipy.integrate import ode\n",
    "\n",
    "y0, t0 = Total_list_init(), 0\n",
    " "
   ]
  },
  {
   "cell_type": "code",
   "execution_count": 220,
   "metadata": {
    "id": "8wvyIppHv-8t"
   },
   "outputs": [],
   "source": [
    "tspan=np.linspace(0,1.2,80)"
   ]
  },
  {
   "cell_type": "code",
   "execution_count": 221,
   "metadata": {
    "id": "FtUphb3wv-8t"
   },
   "outputs": [],
   "source": [
    "\n",
    "def HeunSolver(y0=y0, tspan=tspan,delta_A=delta_A,delta_B=delta_B):\n",
    "    \n",
    "    Ns = len(tspan)\n",
    "    h = (tspan[Ns-1] - tspan[0])/(Ns - 1)\n",
    "    # allocate space for result\n",
    "    y = np.zeros((Ns, Lev**2+Lev**4), dtype='complex')\n",
    "\n",
    "    y[0] = y0;\n",
    "    for n in range(0, Ns-1):\n",
    "\n",
    "\n",
    "        tn = tspan[n]\n",
    "        tnp1 = tspan[n+1]\n",
    "        yn = y[n]\n",
    "        \n",
    "\n",
    "\n",
    "        fn = function_ed_cumul(yn, tn,delta_A,delta_B)\n",
    "        ybar = yn + fn*h  \n",
    "        fnbar = function_ed_cumul(ybar, tnp1,delta_A,delta_B)\n",
    "        y[n+1] = yn + 0.5*(fn + fnbar)*h\n",
    "\n",
    "        print((n+1)*100/Ns,\"% finished\")\n",
    "        \n",
    "        \n",
    "    return y\n"
   ]
  },
  {
   "cell_type": "code",
   "execution_count": null,
   "metadata": {
    "id": "zhwQcbbl51a8"
   },
   "outputs": [],
   "source": []
  },
  {
   "cell_type": "code",
   "execution_count": 222,
   "metadata": {},
   "outputs": [
    {
     "name": "stderr",
     "output_type": "stream",
     "text": [
      "<ipython-input-195-8b040db70a79>:50: NumbaWarning: \u001b[1m\n",
      "Compilation is falling back to object mode WITH looplifting enabled because Function \"expand2\" failed type inference due to: \u001b[1mUntyped global name 'krone':\u001b[0m \u001b[1m\u001b[1mcannot determine Numba type of <class 'function'>\u001b[0m\n",
      "\u001b[1m\n",
      "File \"<ipython-input-195-8b040db70a79>\", line 55:\u001b[0m\n",
      "\u001b[1mdef expand2(a,b,c,d,Ur):\n",
      "    <source elided>\n",
      "    \n",
      "\u001b[1m    if krone(c,b)==1:\n",
      "\u001b[0m    \u001b[1m^\u001b[0m\u001b[0m\n",
      "\u001b[0m\u001b[0m\n",
      "  @jit\n",
      "C:\\Users\\camil\\anaconda3\\lib\\site-packages\\numba\\core\\object_mode_passes.py:177: NumbaWarning: \u001b[1mFunction \"expand2\" was compiled in object mode without forceobj=True.\n",
      "\u001b[1m\n",
      "File \"<ipython-input-195-8b040db70a79>\", line 51:\u001b[0m\n",
      "\u001b[1m@jit\n",
      "\u001b[1mdef expand2(a,b,c,d,Ur):\n",
      "\u001b[0m\u001b[1m^\u001b[0m\u001b[0m\n",
      "\u001b[0m\n",
      "  warnings.warn(errors.NumbaWarning(warn_msg,\n",
      "C:\\Users\\camil\\anaconda3\\lib\\site-packages\\numba\\core\\object_mode_passes.py:187: NumbaDeprecationWarning: \u001b[1m\n",
      "Fall-back from the nopython compilation path to the object mode compilation path has been detected, this is deprecated behaviour.\n",
      "\n",
      "For more information visit http://numba.pydata.org/numba-doc/latest/reference/deprecation.html#deprecation-of-object-mode-fall-back-behaviour-when-using-jit\n",
      "\u001b[1m\n",
      "File \"<ipython-input-195-8b040db70a79>\", line 51:\u001b[0m\n",
      "\u001b[1m@jit\n",
      "\u001b[1mdef expand2(a,b,c,d,Ur):\n",
      "\u001b[0m\u001b[1m^\u001b[0m\u001b[0m\n",
      "\u001b[0m\n",
      "  warnings.warn(errors.NumbaDeprecationWarning(msg,\n",
      "<ipython-input-195-8b040db70a79>:65: NumbaWarning: \u001b[1m\n",
      "Compilation is falling back to object mode WITH looplifting enabled because Function \"expand3A\" failed type inference due to: \u001b[1mUntyped global name 'krone':\u001b[0m \u001b[1m\u001b[1mcannot determine Numba type of <class 'function'>\u001b[0m\n",
      "\u001b[1m\n",
      "File \"<ipython-input-195-8b040db70a79>\", line 70:\u001b[0m\n",
      "\u001b[1mdef expand3A(a,b,c,d,e,f,Ur):      # For single\n",
      "    <source elided>\n",
      "    \n",
      "\u001b[1m    if krone(e,d)==1:\n",
      "\u001b[0m    \u001b[1m^\u001b[0m\u001b[0m\n",
      "\u001b[0m\u001b[0m\n",
      "  @jit\n",
      "C:\\Users\\camil\\anaconda3\\lib\\site-packages\\numba\\core\\object_mode_passes.py:177: NumbaWarning: \u001b[1mFunction \"expand3A\" was compiled in object mode without forceobj=True.\n",
      "\u001b[1m\n",
      "File \"<ipython-input-195-8b040db70a79>\", line 66:\u001b[0m\n",
      "\u001b[1m@jit    \n",
      "\u001b[1mdef expand3A(a,b,c,d,e,f,Ur):      # For single\n",
      "\u001b[0m\u001b[1m^\u001b[0m\u001b[0m\n",
      "\u001b[0m\n",
      "  warnings.warn(errors.NumbaWarning(warn_msg,\n",
      "C:\\Users\\camil\\anaconda3\\lib\\site-packages\\numba\\core\\object_mode_passes.py:187: NumbaDeprecationWarning: \u001b[1m\n",
      "Fall-back from the nopython compilation path to the object mode compilation path has been detected, this is deprecated behaviour.\n",
      "\n",
      "For more information visit http://numba.pydata.org/numba-doc/latest/reference/deprecation.html#deprecation-of-object-mode-fall-back-behaviour-when-using-jit\n",
      "\u001b[1m\n",
      "File \"<ipython-input-195-8b040db70a79>\", line 66:\u001b[0m\n",
      "\u001b[1m@jit    \n",
      "\u001b[1mdef expand3A(a,b,c,d,e,f,Ur):      # For single\n",
      "\u001b[0m\u001b[1m^\u001b[0m\u001b[0m\n",
      "\u001b[0m\n",
      "  warnings.warn(errors.NumbaDeprecationWarning(msg,\n",
      "<ipython-input-195-8b040db70a79>:85: NumbaWarning: \u001b[1m\n",
      "Compilation is falling back to object mode WITH looplifting enabled because Function \"expand3B\" failed type inference due to: \u001b[1mUntyped global name 'krone':\u001b[0m \u001b[1m\u001b[1mcannot determine Numba type of <class 'function'>\u001b[0m\n",
      "\u001b[1m\n",
      "File \"<ipython-input-195-8b040db70a79>\", line 90:\u001b[0m\n",
      "\u001b[1mdef expand3B(a,b,c,d,e,f,Ur):      #For double\n",
      "    <source elided>\n",
      "    \n",
      "\u001b[1m    if krone(e,b)==1:\n",
      "\u001b[0m    \u001b[1m^\u001b[0m\u001b[0m\n",
      "\u001b[0m\u001b[0m\n",
      "  @jit\n",
      "C:\\Users\\camil\\anaconda3\\lib\\site-packages\\numba\\core\\object_mode_passes.py:177: NumbaWarning: \u001b[1mFunction \"expand3B\" was compiled in object mode without forceobj=True.\n",
      "\u001b[1m\n",
      "File \"<ipython-input-195-8b040db70a79>\", line 86:\u001b[0m\n",
      "\u001b[1m@jit    \n",
      "\u001b[1mdef expand3B(a,b,c,d,e,f,Ur):      #For double\n",
      "\u001b[0m\u001b[1m^\u001b[0m\u001b[0m\n",
      "\u001b[0m\n",
      "  warnings.warn(errors.NumbaWarning(warn_msg,\n",
      "C:\\Users\\camil\\anaconda3\\lib\\site-packages\\numba\\core\\object_mode_passes.py:187: NumbaDeprecationWarning: \u001b[1m\n",
      "Fall-back from the nopython compilation path to the object mode compilation path has been detected, this is deprecated behaviour.\n",
      "\n",
      "For more information visit http://numba.pydata.org/numba-doc/latest/reference/deprecation.html#deprecation-of-object-mode-fall-back-behaviour-when-using-jit\n",
      "\u001b[1m\n",
      "File \"<ipython-input-195-8b040db70a79>\", line 86:\u001b[0m\n",
      "\u001b[1m@jit    \n",
      "\u001b[1mdef expand3B(a,b,c,d,e,f,Ur):      #For double\n",
      "\u001b[0m\u001b[1m^\u001b[0m\u001b[0m\n",
      "\u001b[0m\n",
      "  warnings.warn(errors.NumbaDeprecationWarning(msg,\n",
      "<ipython-input-195-8b040db70a79>:105: NumbaWarning: \u001b[1m\n",
      "Compilation is falling back to object mode WITH looplifting enabled because Function \"expand4\" failed type inference due to: \u001b[1mUntyped global name 'krone':\u001b[0m \u001b[1m\u001b[1mcannot determine Numba type of <class 'function'>\u001b[0m\n",
      "\u001b[1m\n",
      "File \"<ipython-input-195-8b040db70a79>\", line 110:\u001b[0m\n",
      "\u001b[1mdef expand4(a,b,c,d,e,f,g,h,Ur):\n",
      "    <source elided>\n",
      "    \n",
      "\u001b[1m    if krone(d,g)==1:\n",
      "\u001b[0m    \u001b[1m^\u001b[0m\u001b[0m\n",
      "\u001b[0m\u001b[0m\n",
      "  @jit\n",
      "C:\\Users\\camil\\anaconda3\\lib\\site-packages\\numba\\core\\object_mode_passes.py:177: NumbaWarning: \u001b[1mFunction \"expand4\" was compiled in object mode without forceobj=True.\n",
      "\u001b[1m\n",
      "File \"<ipython-input-195-8b040db70a79>\", line 106:\u001b[0m\n",
      "\u001b[1m@jit    \n",
      "\u001b[1mdef expand4(a,b,c,d,e,f,g,h,Ur):\n",
      "\u001b[0m\u001b[1m^\u001b[0m\u001b[0m\n",
      "\u001b[0m\n",
      "  warnings.warn(errors.NumbaWarning(warn_msg,\n",
      "C:\\Users\\camil\\anaconda3\\lib\\site-packages\\numba\\core\\object_mode_passes.py:187: NumbaDeprecationWarning: \u001b[1m\n",
      "Fall-back from the nopython compilation path to the object mode compilation path has been detected, this is deprecated behaviour.\n",
      "\n",
      "For more information visit http://numba.pydata.org/numba-doc/latest/reference/deprecation.html#deprecation-of-object-mode-fall-back-behaviour-when-using-jit\n",
      "\u001b[1m\n",
      "File \"<ipython-input-195-8b040db70a79>\", line 106:\u001b[0m\n",
      "\u001b[1m@jit    \n",
      "\u001b[1mdef expand4(a,b,c,d,e,f,g,h,Ur):\n",
      "\u001b[0m\u001b[1m^\u001b[0m\u001b[0m\n",
      "\u001b[0m\n",
      "  warnings.warn(errors.NumbaDeprecationWarning(msg,\n"
     ]
    },
    {
     "name": "stdout",
     "output_type": "stream",
     "text": [
      "1.25 % finished\n",
      "2.5 % finished\n",
      "3.75 % finished\n",
      "5.0 % finished\n",
      "6.25 % finished\n",
      "7.5 % finished\n",
      "8.75 % finished\n",
      "10.0 % finished\n",
      "11.25 % finished\n",
      "12.5 % finished\n",
      "13.75 % finished\n",
      "15.0 % finished\n",
      "16.25 % finished\n",
      "17.5 % finished\n",
      "18.75 % finished\n",
      "20.0 % finished\n",
      "21.25 % finished\n",
      "22.5 % finished\n",
      "23.75 % finished\n",
      "25.0 % finished\n",
      "26.25 % finished\n",
      "27.5 % finished\n",
      "28.75 % finished\n",
      "30.0 % finished\n",
      "31.25 % finished\n",
      "32.5 % finished\n",
      "33.75 % finished\n",
      "35.0 % finished\n",
      "36.25 % finished\n",
      "37.5 % finished\n",
      "38.75 % finished\n",
      "40.0 % finished\n",
      "41.25 % finished\n",
      "42.5 % finished\n",
      "43.75 % finished\n",
      "45.0 % finished\n",
      "46.25 % finished\n",
      "47.5 % finished\n",
      "48.75 % finished\n",
      "50.0 % finished\n",
      "51.25 % finished\n",
      "52.5 % finished\n",
      "53.75 % finished\n",
      "55.0 % finished\n",
      "56.25 % finished\n",
      "57.5 % finished\n",
      "58.75 % finished\n",
      "60.0 % finished\n",
      "61.25 % finished\n",
      "62.5 % finished\n",
      "63.75 % finished\n",
      "65.0 % finished\n",
      "66.25 % finished\n",
      "67.5 % finished\n",
      "68.75 % finished\n",
      "70.0 % finished\n",
      "71.25 % finished\n",
      "72.5 % finished\n",
      "73.75 % finished\n",
      "75.0 % finished\n",
      "76.25 % finished\n",
      "77.5 % finished\n",
      "78.75 % finished\n",
      "80.0 % finished\n",
      "81.25 % finished\n",
      "82.5 % finished\n",
      "83.75 % finished\n",
      "85.0 % finished\n",
      "86.25 % finished\n",
      "87.5 % finished\n",
      "88.75 % finished\n",
      "90.0 % finished\n",
      "91.25 % finished\n",
      "92.5 % finished\n",
      "93.75 % finished\n",
      "95.0 % finished\n",
      "96.25 % finished\n",
      "97.5 % finished\n",
      "98.75 % finished\n"
     ]
    }
   ],
   "source": [
    "ResultHS=HeunSolver(y0, tspan,delta_A,delta_B)"
   ]
  },
  {
   "cell_type": "code",
   "execution_count": null,
   "metadata": {},
   "outputs": [],
   "source": []
  },
  {
   "cell_type": "code",
   "execution_count": null,
   "metadata": {},
   "outputs": [],
   "source": []
  },
  {
   "cell_type": "code",
   "execution_count": null,
   "metadata": {},
   "outputs": [],
   "source": []
  },
  {
   "cell_type": "code",
   "execution_count": 223,
   "metadata": {
    "id": "Se30e7QGv-8u"
   },
   "outputs": [],
   "source": [
    "\n",
    "\n",
    "\n",
    "def Minimum_squeezing(delta_A,delta_B):\n",
    "    ResultHS=HeunSolver(y0, tspan,delta_A,delta_B)\n",
    "\n",
    "\n",
    "\n",
    "    E_X    =(ResultHS[:,H_index1(0,2)]+ResultHS[:,H_index1(2,0)])/2\n",
    "    E_Y    =(ResultHS[:,H_index1(1,3)]-ResultHS[:,H_index1(3,1)])/(2j)\n",
    "\n",
    "\n",
    "    V1=(ResultHS[:,H_index2(0,2,0,2)]+ResultHS[:,H_index2(0,2,2,0)]+ResultHS[:,H_index2(2,0,0,2)]+ResultHS[:,H_index2(2,0,2,0)])/(4)\n",
    "    V2=(ResultHS[:,H_index2(0,2,1,3)]-ResultHS[:,H_index2(0,2,3,1)]+ResultHS[:,H_index2(2,0,1,3)]-ResultHS[:,H_index2(2,0,3,1)])/(-4j)\n",
    "    V3=(ResultHS[:,H_index2(1,3,0,2)]+ResultHS[:,H_index2(1,3,2,0)]-ResultHS[:,H_index2(3,1,0,2)]-ResultHS[:,H_index2(3,1,2,0)])/(-4j)\n",
    "    V4=(ResultHS[:,H_index2(1,3,1,3)]-ResultHS[:,H_index2(1,3,3,1)]-ResultHS[:,H_index2(3,1,1,3)]+ResultHS[:,H_index2(3,1,3,1)])/(-4)\n",
    "\n",
    "    Sq1=V1+V2+V3+V4\n",
    "    Sq2=V1-V2-V3+V4\n",
    "\n",
    "    if np.min(Sq1)<=np.min(Sq2):\n",
    "\n",
    "      \n",
    "        index_min = np.argmin(Sq1)\n",
    "        x = Nat*chi*tspan[index_min]\n",
    "        y = np.real(np.min(Sq1))\n",
    "        return [delta_A, delta_B ,x ,y/(Nat/4)]\n",
    "\n",
    "    else:\n",
    "\n",
    "        index_min = np.argmin(Sq2)\n",
    "        x = Nat*chi*tspan[index_min]\n",
    "        y = np.real(np.min(Sq2))\n",
    "        return [delta_A, delta_B ,x ,y/(Nat/4)]   #Squeezing factor normalized\n",
    "\n",
    "\n",
    "    \n",
    "\n",
    "\n",
    "\n"
   ]
  },
  {
   "cell_type": "code",
   "execution_count": 224,
   "metadata": {
    "colab": {
     "base_uri": "https://localhost:8080/"
    },
    "id": "ICOWLVPG_DyZ",
    "outputId": "a560eed8-fa44-420e-f5eb-62e512b2b276"
   },
   "outputs": [],
   "source": [
    "Time_scale=Nat*chi/2\n",
    "\n"
   ]
  },
  {
   "cell_type": "code",
   "execution_count": 225,
   "metadata": {
    "colab": {
     "base_uri": "https://localhost:8080/"
    },
    "id": "0tkRyoR1_D3g",
    "outputId": "48ff4f4b-0b1c-4e58-c186-62a3882e7886"
   },
   "outputs": [
    {
     "name": "stdout",
     "output_type": "stream",
     "text": [
      "ITERATION NUMBER  0\n",
      "1.25 % finished\n",
      "2.5 % finished\n",
      "3.75 % finished\n",
      "5.0 % finished\n",
      "6.25 % finished\n",
      "7.5 % finished\n",
      "8.75 % finished\n",
      "10.0 % finished\n",
      "11.25 % finished\n",
      "12.5 % finished\n",
      "13.75 % finished\n",
      "15.0 % finished\n",
      "16.25 % finished\n",
      "17.5 % finished\n",
      "18.75 % finished\n",
      "20.0 % finished\n",
      "21.25 % finished\n",
      "22.5 % finished\n",
      "23.75 % finished\n",
      "25.0 % finished\n",
      "26.25 % finished\n",
      "27.5 % finished\n",
      "28.75 % finished\n",
      "30.0 % finished\n",
      "31.25 % finished\n",
      "32.5 % finished\n",
      "33.75 % finished\n",
      "35.0 % finished\n",
      "36.25 % finished\n",
      "37.5 % finished\n",
      "38.75 % finished\n",
      "40.0 % finished\n",
      "41.25 % finished\n",
      "42.5 % finished\n",
      "43.75 % finished\n",
      "45.0 % finished\n",
      "46.25 % finished\n",
      "47.5 % finished\n",
      "48.75 % finished\n",
      "50.0 % finished\n",
      "51.25 % finished\n",
      "52.5 % finished\n",
      "53.75 % finished\n",
      "55.0 % finished\n",
      "56.25 % finished\n",
      "57.5 % finished\n",
      "58.75 % finished\n",
      "60.0 % finished\n",
      "61.25 % finished\n",
      "62.5 % finished\n",
      "63.75 % finished\n",
      "65.0 % finished\n",
      "66.25 % finished\n",
      "67.5 % finished\n",
      "68.75 % finished\n",
      "70.0 % finished\n",
      "71.25 % finished\n",
      "72.5 % finished\n",
      "73.75 % finished\n",
      "75.0 % finished\n",
      "76.25 % finished\n",
      "77.5 % finished\n",
      "78.75 % finished\n",
      "80.0 % finished\n",
      "81.25 % finished\n",
      "82.5 % finished\n",
      "83.75 % finished\n",
      "85.0 % finished\n",
      "86.25 % finished\n",
      "87.5 % finished\n",
      "88.75 % finished\n",
      "90.0 % finished\n",
      "91.25 % finished\n",
      "92.5 % finished\n",
      "93.75 % finished\n",
      "95.0 % finished\n",
      "96.25 % finished\n",
      "97.5 % finished\n",
      "98.75 % finished\n",
      "ITERATION NUMBER  1\n",
      "1.25 % finished\n",
      "2.5 % finished\n",
      "3.75 % finished\n",
      "5.0 % finished\n",
      "6.25 % finished\n",
      "7.5 % finished\n",
      "8.75 % finished\n",
      "10.0 % finished\n",
      "11.25 % finished\n",
      "12.5 % finished\n",
      "13.75 % finished\n",
      "15.0 % finished\n",
      "16.25 % finished\n",
      "17.5 % finished\n",
      "18.75 % finished\n",
      "20.0 % finished\n",
      "21.25 % finished\n",
      "22.5 % finished\n",
      "23.75 % finished\n",
      "25.0 % finished\n",
      "26.25 % finished\n",
      "27.5 % finished\n",
      "28.75 % finished\n",
      "30.0 % finished\n",
      "31.25 % finished\n",
      "32.5 % finished\n",
      "33.75 % finished\n",
      "35.0 % finished\n",
      "36.25 % finished\n",
      "37.5 % finished\n",
      "38.75 % finished\n",
      "40.0 % finished\n",
      "41.25 % finished\n",
      "42.5 % finished\n",
      "43.75 % finished\n",
      "45.0 % finished\n",
      "46.25 % finished\n",
      "47.5 % finished\n",
      "48.75 % finished\n",
      "50.0 % finished\n",
      "51.25 % finished\n",
      "52.5 % finished\n",
      "53.75 % finished\n",
      "55.0 % finished\n",
      "56.25 % finished\n",
      "57.5 % finished\n",
      "58.75 % finished\n",
      "60.0 % finished\n",
      "61.25 % finished\n",
      "62.5 % finished\n",
      "63.75 % finished\n",
      "65.0 % finished\n",
      "66.25 % finished\n",
      "67.5 % finished\n",
      "68.75 % finished\n",
      "70.0 % finished\n",
      "71.25 % finished\n",
      "72.5 % finished\n",
      "73.75 % finished\n",
      "75.0 % finished\n",
      "76.25 % finished\n",
      "77.5 % finished\n",
      "78.75 % finished\n",
      "80.0 % finished\n",
      "81.25 % finished\n",
      "82.5 % finished\n",
      "83.75 % finished\n",
      "85.0 % finished\n",
      "86.25 % finished\n",
      "87.5 % finished\n",
      "88.75 % finished\n",
      "90.0 % finished\n",
      "91.25 % finished\n",
      "92.5 % finished\n",
      "93.75 % finished\n",
      "95.0 % finished\n",
      "96.25 % finished\n",
      "97.5 % finished\n",
      "98.75 % finished\n"
     ]
    }
   ],
   "source": [
    "Results_RS=[]\n",
    "\n",
    "for j in range(2):\n",
    "\n",
    "    print(\"ITERATION NUMBER \",j)\n",
    "\n",
    "    delA=np.random.uniform(0            , 2*Time_scale ,1 )[0]\n",
    "    delB=np.random.uniform(-2*Time_scale, 0            ,1 )[0]\n",
    "\n",
    "    \n",
    "\n",
    "    Results_RS.append(Minimum_squeezing(delA,delB))\n",
    "    \n"
   ]
  },
  {
   "cell_type": "code",
   "execution_count": null,
   "metadata": {
    "id": "uqGwdrWl3oka"
   },
   "outputs": [],
   "source": []
  },
  {
   "cell_type": "code",
   "execution_count": 226,
   "metadata": {
    "id": "xQnIEord6YdI"
   },
   "outputs": [
    {
     "data": {
      "text/plain": [
       "[[0.009391696068694055,\n",
       "  -0.062169911899663255,\n",
       "  0.9873417721518987,\n",
       "  0.49664378144928595],\n",
       " [0.3329873095806962,\n",
       "  -1.0250818227077927,\n",
       "  1.2151898734177216,\n",
       "  0.42147518792395533]]"
      ]
     },
     "execution_count": 226,
     "metadata": {},
     "output_type": "execute_result"
    }
   ],
   "source": [
    "Results_RS"
   ]
  },
  {
   "cell_type": "markdown",
   "metadata": {
    "id": "xvOasGQ77kz_"
   },
   "source": [
    "## Visualization of results"
   ]
  },
  {
   "cell_type": "code",
   "execution_count": null,
   "metadata": {
    "id": "mTBB5GfU7kaD"
   },
   "outputs": [],
   "source": []
  },
  {
   "cell_type": "code",
   "execution_count": 227,
   "metadata": {
    "id": "ufvs8Y5gv-8u"
   },
   "outputs": [
    {
     "data": {
      "text/plain": [
       "6.0"
      ]
     },
     "execution_count": 227,
     "metadata": {},
     "output_type": "execute_result"
    }
   ],
   "source": [
    "tspan=np.linspace(0,1.2,80)\n",
    "\n",
    "Nat*chi*tspan[-1]   # N*chi*t"
   ]
  },
  {
   "cell_type": "code",
   "execution_count": null,
   "metadata": {
    "id": "qRYtBvP2yMPW"
   },
   "outputs": [],
   "source": []
  },
  {
   "cell_type": "code",
   "execution_count": 228,
   "metadata": {
    "id": "UKJ8Gvliv-8u"
   },
   "outputs": [
    {
     "name": "stdout",
     "output_type": "stream",
     "text": [
      "1.25 % finished\n",
      "2.5 % finished\n",
      "3.75 % finished\n",
      "5.0 % finished\n",
      "6.25 % finished\n",
      "7.5 % finished\n",
      "8.75 % finished\n",
      "10.0 % finished\n",
      "11.25 % finished\n",
      "12.5 % finished\n",
      "13.75 % finished\n",
      "15.0 % finished\n",
      "16.25 % finished\n",
      "17.5 % finished\n",
      "18.75 % finished\n",
      "20.0 % finished\n",
      "21.25 % finished\n",
      "22.5 % finished\n",
      "23.75 % finished\n",
      "25.0 % finished\n",
      "26.25 % finished\n",
      "27.5 % finished\n",
      "28.75 % finished\n",
      "30.0 % finished\n",
      "31.25 % finished\n",
      "32.5 % finished\n",
      "33.75 % finished\n",
      "35.0 % finished\n",
      "36.25 % finished\n",
      "37.5 % finished\n",
      "38.75 % finished\n",
      "40.0 % finished\n",
      "41.25 % finished\n",
      "42.5 % finished\n",
      "43.75 % finished\n",
      "45.0 % finished\n",
      "46.25 % finished\n",
      "47.5 % finished\n",
      "48.75 % finished\n",
      "50.0 % finished\n",
      "51.25 % finished\n",
      "52.5 % finished\n",
      "53.75 % finished\n",
      "55.0 % finished\n",
      "56.25 % finished\n",
      "57.5 % finished\n",
      "58.75 % finished\n",
      "60.0 % finished\n",
      "61.25 % finished\n",
      "62.5 % finished\n",
      "63.75 % finished\n",
      "65.0 % finished\n",
      "66.25 % finished\n",
      "67.5 % finished\n",
      "68.75 % finished\n",
      "70.0 % finished\n",
      "71.25 % finished\n",
      "72.5 % finished\n",
      "73.75 % finished\n",
      "75.0 % finished\n",
      "76.25 % finished\n",
      "77.5 % finished\n",
      "78.75 % finished\n",
      "80.0 % finished\n",
      "81.25 % finished\n",
      "82.5 % finished\n",
      "83.75 % finished\n",
      "85.0 % finished\n",
      "86.25 % finished\n",
      "87.5 % finished\n",
      "88.75 % finished\n",
      "90.0 % finished\n",
      "91.25 % finished\n",
      "92.5 % finished\n",
      "93.75 % finished\n",
      "95.0 % finished\n",
      "96.25 % finished\n",
      "97.5 % finished\n",
      "98.75 % finished\n"
     ]
    }
   ],
   "source": [
    "\n",
    "ResultHS=HeunSolver(y0, tspan,delta_A,delta_B)\n",
    "\n"
   ]
  },
  {
   "cell_type": "code",
   "execution_count": null,
   "metadata": {
    "id": "jKUXKOE1v-8u"
   },
   "outputs": [],
   "source": []
  },
  {
   "cell_type": "code",
   "execution_count": 229,
   "metadata": {
    "id": "NAFehkyRCE7z"
   },
   "outputs": [],
   "source": [
    "E_X    =(ResultHS[:,H_index1(0,2)]+ResultHS[:,H_index1(2,0)])/2\n",
    "E_Y    =(ResultHS[:,H_index1(1,3)]-ResultHS[:,H_index1(3,1)])/(2j)\n",
    "\n",
    "\n",
    "V1=(ResultHS[:,H_index2(0,2,0,2)]+ResultHS[:,H_index2(0,2,2,0)]+ResultHS[:,H_index2(2,0,0,2)]+ResultHS[:,H_index2(2,0,2,0)])/(4)\n",
    "V2=(ResultHS[:,H_index2(0,2,1,3)]-ResultHS[:,H_index2(0,2,3,1)]+ResultHS[:,H_index2(2,0,1,3)]-ResultHS[:,H_index2(2,0,3,1)])/(-4j)\n",
    "V3=(ResultHS[:,H_index2(1,3,0,2)]+ResultHS[:,H_index2(1,3,2,0)]-ResultHS[:,H_index2(3,1,0,2)]-ResultHS[:,H_index2(3,1,2,0)])/(-4j)\n",
    "V4=(ResultHS[:,H_index2(1,3,1,3)]-ResultHS[:,H_index2(1,3,3,1)]-ResultHS[:,H_index2(3,1,1,3)]+ResultHS[:,H_index2(3,1,3,1)])/(-4)\n"
   ]
  },
  {
   "cell_type": "code",
   "execution_count": 230,
   "metadata": {
    "id": "OWBqYwpq4lsv"
   },
   "outputs": [],
   "source": [
    "\n",
    "import matplotlib\n",
    "matplotlib.rcParams['text.usetex'] = False\n",
    "matplotlib.rcParams['mathtext.fontset'] = 'stix'\n",
    "matplotlib.rcParams['font.family'] = 'STIXGeneral'\n",
    "matplotlib.rcParams['font.size'] = 15\n",
    "matplotlib.rcParams['figure.figsize'] = (11.0, 8.0)\n",
    "\n"
   ]
  },
  {
   "cell_type": "code",
   "execution_count": 231,
   "metadata": {
    "id": "tsbv4LGTqON6"
   },
   "outputs": [
    {
     "name": "stderr",
     "output_type": "stream",
     "text": [
      "C:\\Users\\camil\\anaconda3\\lib\\site-packages\\numpy\\core\\_asarray.py:85: ComplexWarning: Casting complex values to real discards the imaginary part\n",
      "  return array(a, dtype, copy=False, order=order)\n",
      "C:\\Users\\camil\\anaconda3\\lib\\site-packages\\numpy\\core\\_asarray.py:85: ComplexWarning: Casting complex values to real discards the imaginary part\n",
      "  return array(a, dtype, copy=False, order=order)\n"
     ]
    },
    {
     "data": {
      "text/plain": [
       "<matplotlib.legend.Legend at 0x1e204543070>"
      ]
     },
     "execution_count": 231,
     "metadata": {},
     "output_type": "execute_result"
    },
    {
     "data": {
      "image/png": "[encoded data removed]",
      "text/plain": [
       "<Figure size 792x576 with 1 Axes>"
      ]
     },
     "metadata": {
      "needs_background": "light"
     },
     "output_type": "display_data"
    }
   ],
   "source": [
    "fontsize=22\n",
    "\n",
    "plt.title(\"Numerical Exact Dynamics of the Normalized Variances of $\\hat{S}_1^x\\pm \\hat{S}_2^y$\",fontsize=24)\n",
    "\n",
    "plt.plot(Nat*tspan*chi, (V1+V2+V3+V4-(E_X-E_Y)**2)/(Nat/4) ,label=\"Var($ \\hat{S}_1^x - \\hat{S}_2^y  $)\" )\n",
    "plt.plot(Nat*tspan*chi, (V1-V2-V3+V4-(E_X+E_Y)**2)/(Nat/4) ,label=\"Var($ \\hat{S}_1^x + \\hat{S}_2^y  $)\" )\n",
    "\n",
    "\n",
    "plt.xlabel(\"$N\\chi t$\",fontsize=22)\n",
    "plt.ylabel(\"Var$(\\hat{O})/(N/4)$\",fontsize=22)\n",
    "\n",
    "plt.yscale(\"log\")\n",
    "\n",
    "\n",
    "plt.legend(fontsize=22)"
   ]
  },
  {
   "cell_type": "code",
   "execution_count": null,
   "metadata": {
    "id": "I471YFInqOQ0"
   },
   "outputs": [],
   "source": []
  },
  {
   "cell_type": "code",
   "execution_count": 232,
   "metadata": {
    "id": "vmz_8wdoqOTz"
   },
   "outputs": [
    {
     "name": "stderr",
     "output_type": "stream",
     "text": [
      "C:\\Users\\camil\\anaconda3\\lib\\site-packages\\numpy\\core\\_asarray.py:85: ComplexWarning: Casting complex values to real discards the imaginary part\n",
      "  return array(a, dtype, copy=False, order=order)\n"
     ]
    },
    {
     "data": {
      "text/plain": [
       "<matplotlib.legend.Legend at 0x1e204377d30>"
      ]
     },
     "execution_count": 232,
     "metadata": {},
     "output_type": "execute_result"
    },
    {
     "data": {
      "image/png": "[encoded data removed]",
      "text/plain": [
       "<Figure size 792x576 with 1 Axes>"
      ]
     },
     "metadata": {
      "needs_background": "light"
     },
     "output_type": "display_data"
    }
   ],
   "source": [
    "t_index=1\n",
    "\n",
    "\n",
    "#plt.plot(Nat*tspan*chi,ResultHS[:,H_index1(0,0)])\n",
    "plt.plot(Nat*tspan[t_index:]*chi,ResultHS[t_index:,H_index1(1,1)],label=\"NE $n_1(t)$\")\n",
    "plt.plot(Nat*tspan[t_index:]*chi,np.sinh(Nat*tspan[t_index:]*chi/2)**2,label=\" $n_{1,est}(t) \\\\approx \\sinh^{2}(N\\chi t/2)$\")\n",
    "#plt.plot(Nat*tspan*chi,ResultHS[:,H_index1(2,2)])\n",
    "#plt.plot(Nat*tspan*chi,ResultHS[:,H_index1(3,3)])\n",
    "plt.xlabel(\"$N\\chi t$\",fontsize=25)\n",
    "plt.yscale(\"log\")\n",
    "\n",
    "plt.legend()"
   ]
  },
  {
   "cell_type": "code",
   "execution_count": null,
   "metadata": {
    "id": "46ZLzIavCZAT"
   },
   "outputs": [],
   "source": []
  },
  {
   "cell_type": "code",
   "execution_count": 233,
   "metadata": {
    "id": "TI2yCs9OClbQ"
   },
   "outputs": [],
   "source": [
    "Vplus =(V1-V2-V3+V4-(E_X+E_Y)**2)/(Nat/4)\n",
    "Vminus=(V1+V2+V3+V4-(E_X+E_Y)**2)/(Nat/4)"
   ]
  },
  {
   "cell_type": "code",
   "execution_count": null,
   "metadata": {
    "id": "-oQou9eNwdpW"
   },
   "outputs": [],
   "source": []
  },
  {
   "cell_type": "code",
   "execution_count": 234,
   "metadata": {
    "id": "40TaNdQKwdsH"
   },
   "outputs": [
    {
     "data": {
      "text/plain": [
       "(0.008738737034436781-2.0182780243133964e-17j)"
      ]
     },
     "execution_count": 234,
     "metadata": {},
     "output_type": "execute_result"
    }
   ],
   "source": [
    "np.min([Vplus,Vminus])"
   ]
  },
  {
   "cell_type": "code",
   "execution_count": null,
   "metadata": {
    "id": "b90RFTvmwduq"
   },
   "outputs": [],
   "source": []
  },
  {
   "cell_type": "markdown",
   "metadata": {
    "id": "Xg2ybo9oaaXA"
   },
   "source": [
    "## Taylor Expansion of the dephasing terms"
   ]
  },
  {
   "cell_type": "markdown",
   "metadata": {
    "id": "9GG66InlavWC"
   },
   "source": [
    "Consider the hamiltonian of the form $\\hat{H}_{i}=\\chi\\left(\\hat{S}_{20}-\\hat{S}_{31}\\right)\\left(\\hat{S}_{02}-\\hat{S}_{13}\\right)+\\frac{N\\chi}{4}\\left(\\hat{S}_{00}-\\hat{S}_{22}\\right)-\\frac{N\\chi}{4}\\left(\\hat{S}_{11}-\\hat{S}_{33}\\right)$, in order to introduce the possible \"improvements\" to the squeezing term we consider the most general dephasing term in the hamiltonian studied which can be written as:\n",
    "\n",
    "$$\\hat{H}_{{\\rm up}}=\\chi\\left(\\hat{S}_{20}-\\hat{S}_{31}\\right)\\left(\\hat{S}_{02}-\\hat{S}_{13}\\right)+\\delta_{{\\rm A}}\\left(t\\right)\\left(\\hat{S}_{00}-\\hat{S}_{22}\\right)+\\delta_{{\\rm B}}\\left(t\\right)\\left(\\hat{S}_{11}-\\hat{S}_{33}\\right)$$\n",
    "\n",
    "Here we consider a Taylor expansion of the terms $\\delta_{\\rm{A/B}}(t)=\\sum_i f_{A/B,i}t^i$. We define two objective functions related with the squeezing direction. The first relates with the fact that we want to get fast squeezing and the second one that we want to have as much squeezing as possible, so in terms of the graph this is simply:\n"
   ]
  },
  {
   "cell_type": "code",
   "execution_count": null,
   "metadata": {
    "id": "WxJVIvqYeHmH"
   },
   "outputs": [],
   "source": []
  },
  {
   "cell_type": "code",
   "execution_count": null,
   "metadata": {
    "id": "V6Ga-wJrESwR"
   },
   "outputs": [],
   "source": [
    "fontsize=22\n",
    "\n",
    "plt.title(\"Numerical Exact Dynamics of the Normalized Variances of $\\hat{S}_1^x\\pm \\hat{S}_2^y$\",fontsize=24)\n",
    "\n",
    "plt.plot(Nat*tspan*chi, Vplus,color='b' ,label=\"Var($ \\hat{S}_1^x + \\hat{S}_2^y  $)\" )\n",
    "\n",
    "plt.xlabel(\"$N\\chi t$\",fontsize=22)\n",
    "plt.ylabel(\"Var$(\\hat{O})/(N/4)$\",fontsize=22)\n",
    "\n",
    "plt.yscale(\"log\")\n",
    "\n",
    "plt.xlim((Nat*chi*tspan[0],Nat*chi*tspan[-1]))\n",
    "plt.ylim((np.real(np.min(Vplus))*0.2,1.5*np.real(np.max(Vplus))))\n",
    "\n",
    "\n",
    "index_min = np.argmin(Vplus)\n",
    "\n",
    "\n",
    "x = [Nat*chi*tspan[index_min]]\n",
    "y = [np.real(np.min(Vplus))]\n",
    "plt.plot(x, y, marker=\"o\", markersize=8, markeredgecolor=\"red\", markerfacecolor=\"red\")\n",
    "\n",
    "\n",
    "\n",
    "plt.text(Nat*chi*tspan[index_min], np.real(np.min(Vplus)*0.5), r\"$(N\\chi t_{min},\\xi^2_{min})$\",\n",
    "        color=\"black\", fontsize=24,\n",
    "        horizontalalignment=\"center\", verticalalignment=\"center\")\n",
    "\n",
    "plt.legend(fontsize=22)"
   ]
  },
  {
   "cell_type": "markdown",
   "metadata": {
    "id": "jRLuP59fiET3"
   },
   "source": [
    "We characterize our problem via the following minimization formulation:\n",
    "\n",
    "\\begin{align*}\n",
    "{\\rm min} & \\,\\,\\,\\xi^{2}\\left(t\\right),\\\\\n",
    "{\\rm S.T.} & \\,\\,\\,\\partial_{t}\\hat{\\rho}=-{\\rm i}\\left[\\hat{H},\\hat{\\rho}\\right],\\\\\n",
    " & \\,\\,\\,\\hat{\\rho}\\left(0\\right)={\\otimes_{i}\\left(\\frac{\\left|0\\right\\rangle \\left\\langle 0\\right|_{i}+\\left|3\\right\\rangle \\left\\langle 3\\right|_{i}}{2}\\right)},\\\\\n",
    " & \\,\\,\\,\\hat{H}=\\chi\\left(\\hat{S}_{20}-\\hat{S}_{31}\\right)\\left(\\hat{S}_{02}-\\hat{S}_{13}\\right)+\\delta_{{\\rm A}}\\left(t\\right)\\left(\\hat{S}_{00}-\\hat{S}_{22}\\right)+\\delta_{{\\rm B}}\\left(t\\right)\\left(\\hat{S}_{11}-\\hat{S}_{33}\\right),\\\\\n",
    " & \\,\\,\\,\\delta_{{\\rm A/B}}\\left(t\\right)=\\sum_{j}f_{{\\rm A/B},j}\\left(t\\right)t^{j},\\\\\n",
    " & \\,\\,\\,S_{abcdef}\\approx S_{abcd}S_{ef}+S_{cdef}S_{ab}+S_{abef}S_{cd}-2S_{ab}S_{cd}S_{ef}.\n",
    "\\end{align*}"
   ]
  },
  {
   "cell_type": "code",
   "execution_count": null,
   "metadata": {
    "id": "IT6X6PW0ai22"
   },
   "outputs": [],
   "source": []
  },
  {
   "cell_type": "code",
   "execution_count": null,
   "metadata": {
    "id": "fZNIBsqKai6C"
   },
   "outputs": [],
   "source": []
  },
  {
   "cell_type": "code",
   "execution_count": null,
   "metadata": {
    "id": "O3Fxwvpkai8S"
   },
   "outputs": [],
   "source": []
  },
  {
   "cell_type": "code",
   "execution_count": null,
   "metadata": {
    "id": "EzR7U4b4ai-_"
   },
   "outputs": [],
   "source": []
  },
  {
   "cell_type": "code",
   "execution_count": null,
   "metadata": {
    "id": "jwtDyQ-vajCi"
   },
   "outputs": [],
   "source": []
  }
 ],
 "metadata": {
  "colab": {
   "collapsed_sections": [],
   "machine_shape": "hm",
   "name": "Zeroth_order_Spin_Spin_Cumulant_Time_dep.ipynb",
   "provenance": []
  },
  "kernelspec": {
   "display_name": "Python 3",
   "language": "python",
   "name": "python3"
  },
  "language_info": {
   "codemirror_mode": {
    "name": "ipython",
    "version": 3
   },
   "file_extension": ".py",
   "mimetype": "text/x-python",
   "name": "python",
   "nbconvert_exporter": "python",
   "pygments_lexer": "ipython3",
   "version": "3.8.3"
  }
 },
 "nbformat": 4,
 "nbformat_minor": 1
}
